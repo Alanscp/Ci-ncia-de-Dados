{
 "cells": [
  {
   "cell_type": "code",
   "execution_count": null,
   "id": "defde117-c020-48df-ae11-bc7833e4ecbf",
   "metadata": {},
   "outputs": [],
   "source": [
    "num1 = 10\n",
    "num2 = 20\n"
   ]
  },
  {
   "cell_type": "code",
   "execution_count": 7,
   "id": "7d6937b8-35b6-4ae3-9c17-3a3ec028004e",
   "metadata": {},
   "outputs": [
    {
     "name": "stdout",
     "output_type": "stream",
     "text": [
      "O resultado da multiplicação é: 300\n"
     ]
    }
   ],
   "source": [
    "num1 = 10\n",
    "num2 = 30\n",
    "resultado = num1 * num2\n",
    "print(\"O resultado da multiplicação é:\", resultado)"
   ]
  },
  {
   "cell_type": "code",
   "execution_count": 29,
   "id": "af470629-5bb4-47a7-8a26-ab8c252a2361",
   "metadata": {},
   "outputs": [
    {
     "name": "stdout",
     "output_type": "stream",
     "text": [
      "A média das notas é: 8.166666666666666\n"
     ]
    }
   ],
   "source": [
    "nota1 = 8.5\n",
    "nota2 = 7.0\n",
    "nota3 = 9.0\n",
    "\n",
    "media = (nota1 + nota2 + nota3) / 3\n",
    "\n",
    "print(\"A média das notas é:\", media)"
   ]
  },
  {
   "cell_type": "code",
   "execution_count": 17,
   "id": "c76b3529-f3f0-4c0d-ac0c-987bb1438d3d",
   "metadata": {},
   "outputs": [
    {
     "name": "stdout",
     "output_type": "stream",
     "text": [
      "O número é negativo.\n"
     ]
    }
   ],
   "source": [
    "num1 = -9\n",
    "\n",
    "if num1 > 0:\n",
    "    print(\"O número é positivo.\")\n",
    "elif num1 < 0:\n",
    "    print(\"O número é negativo.\")\n",
    "else:\n",
    "    print(\"O número é zero.\")"
   ]
  },
  {
   "cell_type": "code",
   "execution_count": 25,
   "id": "bfa6d459-6e41-48e9-b4b0-f0856229d695",
   "metadata": {},
   "outputs": [
    {
     "name": "stdout",
     "output_type": "stream",
     "text": [
      "O número é par.\n"
     ]
    }
   ],
   "source": [
    "num2 = 0\n",
    "\n",
    "if num2 % 2 == 0:\n",
    "    print(\"O número é par.\")\n",
    "else:\n",
    "    print(\"O número é ímpar.\")\n"
   ]
  },
  {
   "cell_type": "code",
   "execution_count": 27,
   "id": "fe126cf3-1b12-419b-8e81-78a43fa67f62",
   "metadata": {},
   "outputs": [
    {
     "name": "stdout",
     "output_type": "stream",
     "text": [
      "O estudante foi aprovado com média: 8.166666666666666\n"
     ]
    }
   ],
   "source": [
    "nota1 = 8.5\n",
    "nota2 = 7.0\n",
    "nota3 = 9.0\n",
    "\n",
    "media = (nota1 + nota2 + nota3) / 3\n",
    "\n",
    "if media >= 6.0:\n",
    "    print(\"O estudante foi aprovado com média:\", media)\n",
    "elif 4.0 <= media < 6.0:\n",
    "    print(\"O estudante está em recuperação com média:\", media)\n",
    "else:\n",
    "    print(\"O estudante foi reprovado com média:\", media)\n"
   ]
  },
  {
   "cell_type": "code",
   "execution_count": 35,
   "id": "8327ea86-3289-41db-8fa5-37e53eb7f52a",
   "metadata": {},
   "outputs": [
    {
     "name": "stdout",
     "output_type": "stream",
     "text": [
      "Categoria: Idoso\n"
     ]
    }
   ],
   "source": [
    "idade = 67\n",
    "\n",
    "if idade < 12:\n",
    "    print(\"Categoria: Criança\")\n",
    "elif 12 <= idade < 18:\n",
    "    print(\"Categoria: Adolescente\")\n",
    "elif 18 <= idade < 60:\n",
    "    print(\"Categoria: Adulto\")\n",
    "else:\n",
    "    print(\"Categoria: Idoso\")"
   ]
  },
  {
   "cell_type": "code",
   "execution_count": 43,
   "id": "05ba07ee-5190-4caf-86c3-da5b231d5e66",
   "metadata": {},
   "outputs": [
    {
     "name": "stdout",
     "output_type": "stream",
     "text": [
      "1\n",
      "2\n",
      "3\n",
      "4\n",
      "5\n"
     ]
    }
   ],
   "source": [
    "numero = 1\n",
    "\n",
    "while numero <= 10:\n",
    "    print(numero)\n",
    "    numero += 1"
   ]
  },
  {
   "cell_type": "code",
   "execution_count": 45,
   "id": "a022ad45-6bf0-44bd-8195-bc0b127a9f0d",
   "metadata": {},
   "outputs": [
    {
     "name": "stdout",
     "output_type": "stream",
     "text": [
      "1\n",
      "2\n",
      "3\n",
      "4\n",
      "5\n",
      "6\n",
      "7\n",
      "8\n",
      "9\n",
      "10\n"
     ]
    }
   ],
   "source": [
    "for numero in range(1, 11):\n",
    "    print(numero)"
   ]
  },
  {
   "cell_type": "code",
   "execution_count": 47,
   "id": "72b6ff8c-bcdf-4027-9bdc-c415a6e76069",
   "metadata": {},
   "outputs": [
    {
     "name": "stdout",
     "output_type": "stream",
     "text": [
      "5 x 1 = 5\n",
      "5 x 2 = 10\n",
      "5 x 3 = 15\n",
      "5 x 4 = 20\n",
      "5 x 5 = 25\n",
      "5 x 6 = 30\n",
      "5 x 7 = 35\n",
      "5 x 8 = 40\n",
      "5 x 9 = 45\n",
      "5 x 10 = 50\n"
     ]
    }
   ],
   "source": [
    "num1 = 5\n",
    "\n",
    "for i in range(1, 11):\n",
    "    print(f\"{num1} x {i} = {num1 * i}\")\n"
   ]
  },
  {
   "cell_type": "code",
   "execution_count": 49,
   "id": "d6cc1008-9998-41ac-bb8b-a633da01d028",
   "metadata": {},
   "outputs": [
    {
     "name": "stdout",
     "output_type": "stream",
     "text": [
      "0\n",
      "10\n",
      "20\n",
      "30\n",
      "40\n",
      "50\n",
      "60\n",
      "70\n",
      "80\n",
      "90\n",
      "100\n"
     ]
    }
   ],
   "source": [
    "numero = 0\n",
    "\n",
    "while numero <= 100:\n",
    "    print(numero)\n",
    "    numero += 10\n"
   ]
  },
  {
   "cell_type": "code",
   "execution_count": 51,
   "id": "54cad5ef-2526-4fd7-a94d-7accaaef876f",
   "metadata": {},
   "outputs": [
    {
     "name": "stdout",
     "output_type": "stream",
     "text": [
      "0\n",
      "2\n",
      "4\n",
      "6\n",
      "8\n",
      "10\n",
      "12\n",
      "14\n",
      "16\n",
      "18\n",
      "20\n"
     ]
    }
   ],
   "source": [
    "for numero in range(0, 21, 2):\n",
    "    print(numero)\n"
   ]
  },
  {
   "cell_type": "code",
   "execution_count": 57,
   "id": "2fbbf36b-64ad-461e-a43e-31f78d314215",
   "metadata": {},
   "outputs": [
    {
     "name": "stdout",
     "output_type": "stream",
     "text": [
      "25°C é equivalente a 77.0°F\n"
     ]
    }
   ],
   "source": [
    "def celsius_para_fahrenheit(celsius):\n",
    "    fahrenheit = celsius * 1.8 + 32\n",
    "    return fahrenheit\n",
    "\n",
    "temperatura_celsius = 25  \n",
    "temperatura_fahrenheit = celsius_para_fahrenheit(temperatura_celsius)\n",
    "print(f\"{temperatura_celsius}°C é equivalente a {temperatura_fahrenheit}°F\")"
   ]
  },
  {
   "cell_type": "code",
   "execution_count": 2,
   "id": "318bb94f-ca9c-443a-8485-5af1ce31a962",
   "metadata": {},
   "outputs": [
    {
     "name": "stdin",
     "output_type": "stream",
     "text": [
      "Digite o primeiro número:  3\n",
      "Digite o segundo número:  4\n"
     ]
    },
    {
     "name": "stdout",
     "output_type": "stream",
     "text": [
      "Escolha a operação:\n",
      "1 - Adição (+)\n",
      "2 - Subtração (-)\n",
      "3 - Multiplicação (*)\n",
      "4 - Divisão (/)\n"
     ]
    },
    {
     "name": "stdin",
     "output_type": "stream",
     "text": [
      "Digite o número da operação desejada:  4\n"
     ]
    },
    {
     "name": "stdout",
     "output_type": "stream",
     "text": [
      "O resultado da divisão é: 0.75\n"
     ]
    }
   ],
   "source": [
    "def calculadora():\n",
    "\n",
    "    num1 = float(input(\"Digite o primeiro número: \"))\n",
    "    num2 = float(input(\"Digite o segundo número: \"))\n",
    "    \n",
    "    print(\"Escolha a operação:\")\n",
    "    print(\"1 - Adição (+)\")\n",
    "    print(\"2 - Subtração (-)\")\n",
    "    print(\"3 - Multiplicação (*)\")\n",
    "    print(\"4 - Divisão (/)\")\n",
    "    operacao = input(\"Digite o número da operação desejada: \")\n",
    "    \n",
    "    if operacao == \"1\":\n",
    "        resultado = num1 + num2\n",
    "        print(f\"O resultado da adição é: {resultado}\")\n",
    "    elif operacao == \"2\":\n",
    "        resultado = num1 - num2\n",
    "        print(f\"O resultado da subtração é: {resultado}\")\n",
    "    elif operacao == \"3\":\n",
    "        resultado = num1 * num2\n",
    "        print(f\"O resultado da multiplicação é: {resultado}\")\n",
    "    elif operacao == \"4\":\n",
    "        if num2 != 0:\n",
    "            resultado = num1 / num2\n",
    "            print(f\"O resultado da divisão é: {resultado}\")\n",
    "        else:\n",
    "            print(\"Erro: Divisão por zero não é permitida.\")\n",
    "    else:\n",
    "        print(\"Operação inválida. Tente novamente.\")\n",
    "    \n",
    "\n",
    "calculadora()\n"
   ]
  },
  {
   "cell_type": "code",
   "execution_count": null,
   "id": "430312f2-76f2-4e9c-818c-83586deace05",
   "metadata": {},
   "outputs": [],
   "source": []
  }
 ],
 "metadata": {
  "kernelspec": {
   "display_name": "Python [conda env:base] *",
   "language": "python",
   "name": "conda-base-py"
  },
  "language_info": {
   "codemirror_mode": {
    "name": "ipython",
    "version": 3
   },
   "file_extension": ".py",
   "mimetype": "text/x-python",
   "name": "python",
   "nbconvert_exporter": "python",
   "pygments_lexer": "ipython3",
   "version": "3.12.7"
  }
 },
 "nbformat": 4,
 "nbformat_minor": 5
}
